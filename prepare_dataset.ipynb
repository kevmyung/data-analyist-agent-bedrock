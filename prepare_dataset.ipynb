{
 "cells": [
  {
   "cell_type": "code",
   "execution_count": 1,
   "metadata": {},
   "outputs": [],
   "source": [
    "import json\n",
    "\n",
    "schema_file_path = './db_schema.json'\n",
    "with open(schema_file_path, 'r') as file:\n",
    "    schema_data = json.load(file)"
   ]
  },
  {
   "cell_type": "code",
   "execution_count": 2,
   "metadata": {},
   "outputs": [],
   "source": [
    "import sqlite3\n",
    "import csv\n",
    "import pandas as pd\n",
    "\n",
    "db_name = 'sample.db'\n",
    "table_name = 'sales_table'\n",
    "#sample_data_path = 'real_sample.csv'\n",
    "sample_data_path = 'generated_sample.csv'\n",
    "\n",
    "conn = sqlite3.connect(db_name)\n",
    "cursor = conn.cursor()"
   ]
  },
  {
   "cell_type": "code",
   "execution_count": 3,
   "metadata": {},
   "outputs": [],
   "source": [
    "drop_table_query = f'''\n",
    "DROP TABLE IF EXISTS {table_name}\n",
    "'''\n",
    "\n",
    "create_table_query = f'''\n",
    "CREATE TABLE {table_name} (\n",
    "'''\n",
    "\n",
    "for column in schema_data:\n",
    "    column_name = column['Column name']\n",
    "    data_type = column['Data type']\n",
    "    create_table_query += f\"    {column_name} {data_type},\\n\"\n",
    "\n",
    "create_table_query = create_table_query.rstrip(',\\n') + '\\n)'"
   ]
  },
  {
   "cell_type": "code",
   "execution_count": 4,
   "metadata": {},
   "outputs": [
    {
     "name": "stdout",
     "output_type": "stream",
     "text": [
      "Table sales_table has been recreated successfully.\n",
      "Data has been inserted successfully.\n"
     ]
    }
   ],
   "source": [
    "try:\n",
    "    cursor.execute(drop_table_query)\n",
    "    cursor.execute(create_table_query)\n",
    "    conn.commit()\n",
    "    print(f\"Table {table_name} has been recreated successfully.\")\n",
    "    \n",
    "    with open(sample_data_path, 'r', encoding='utf-8') as csv_file:\n",
    "        csv_reader = csv.reader(csv_file)\n",
    "        headers = next(csv_reader)\n",
    "\n",
    "        placeholders = ','.join(['?' for _ in headers])\n",
    "        insert_query = f'''\n",
    "        INSERT INTO {table_name} ({','.join(headers)})\n",
    "        VALUES ({placeholders})\n",
    "        '''\n",
    "\n",
    "        for row in csv_reader:\n",
    "            cursor.execute(insert_query, row)\n",
    "\n",
    "    conn.commit()\n",
    "    print(\"Data has been inserted successfully.\")\n",
    "\n",
    "except sqlite3.Error as e:\n",
    "    print(f\"An error occurred: {e}\")\n",
    "    conn.rollback()\n",
    "\n",
    "finally:\n",
    "    conn.close()"
   ]
  },
  {
   "cell_type": "code",
   "execution_count": 5,
   "metadata": {},
   "outputs": [
    {
     "name": "stdout",
     "output_type": "stream",
     "text": [
      "   reference_year_month                       product_name  \\\n",
      "0               2024.08          Beef Sirloin (Product KG)   \n",
      "1               2024.08        Atlantic Salmon (Fillet KG)   \n",
      "2               2024.08       Potato Chips (Large 300g/EA)   \n",
      "3               2024.08               Lettuce (Product KG)   \n",
      "4               2024.08      Canned Tuna in Oil (150g/Can)   \n",
      "5               2024.08              Fuji Apple (10Kg/BOX)   \n",
      "6               2024.08            Spicy Ramen (120g/Pack)   \n",
      "7               2024.08      Cheddar Cheese (Block 2Kg/EA)   \n",
      "8               2024.08        Fresh Shiitake (Product KG)   \n",
      "9               2024.08  Pepperoni Pizza (Large 12inch/EA)   \n",
      "\n",
      "  product_category_major_name current_product_team  total_quantity  \\\n",
      "0               Meat Products            Meat Team           300.0   \n",
      "1                     Seafood         Seafood Team           150.0   \n",
      "2                      Snacks           Snack Team          1000.0   \n",
      "3       Agricultural Products    Agricultural Team           500.0   \n",
      "4                Canned Foods     Canned Food Team          1000.0   \n",
      "5                      Fruits           Fruit Team           100.0   \n",
      "6                     Noodles          Noodle Team          2000.0   \n",
      "7              Dairy Products           Dairy Team            80.0   \n",
      "8                   Mushrooms        Mushroom Team           100.0   \n",
      "9                Frozen Foods     Frozen Food Team           150.0   \n",
      "\n",
      "   total_sales  total_profit  \n",
      "0    9000000.0     1800000.0  \n",
      "1    4500000.0      900000.0  \n",
      "2    3000000.0      900000.0  \n",
      "3    2500000.0      500000.0  \n",
      "4    2000000.0      600000.0  \n",
      "5    2000000.0      400000.0  \n",
      "6    2000000.0      600000.0  \n",
      "7    1600000.0      320000.0  \n",
      "8    1500000.0      450000.0  \n",
      "9    1500000.0      450000.0  \n"
     ]
    }
   ],
   "source": [
    "conn = sqlite3.connect(db_name)\n",
    "\n",
    "query = f\"\"\"\n",
    "SELECT \n",
    "    reference_year_month,\n",
    "    product_name,\n",
    "    product_category_major_name,\n",
    "    current_product_team,\n",
    "    SUM(sales_quantity_sku) as total_quantity,\n",
    "    SUM(sales_amount_gross_basis) as total_sales,\n",
    "    SUM(sales_profit_amount) as total_profit\n",
    "FROM \n",
    "    {table_name}\n",
    "WHERE \n",
    "    reference_year_month = '2024.08'\n",
    "    AND performance_summary_flag = 'O'\n",
    "GROUP BY \n",
    "    reference_year_month,\n",
    "    product_name,\n",
    "    product_category_major_name,\n",
    "    current_product_team\n",
    "ORDER BY \n",
    "    total_sales DESC\n",
    "LIMIT 10\n",
    "\"\"\"\n",
    "\n",
    "df = pd.read_sql_query(query, conn)\n",
    "print(df)\n",
    "\n",
    "conn.close()"
   ]
  },
  {
   "cell_type": "code",
   "execution_count": null,
   "metadata": {},
   "outputs": [],
   "source": []
  }
 ],
 "metadata": {
  "kernelspec": {
   "display_name": "Python 3",
   "language": "python",
   "name": "python3"
  },
  "language_info": {
   "codemirror_mode": {
    "name": "ipython",
    "version": 3
   },
   "file_extension": ".py",
   "mimetype": "text/x-python",
   "name": "python",
   "nbconvert_exporter": "python",
   "pygments_lexer": "ipython3",
   "version": "3.9.16"
  }
 },
 "nbformat": 4,
 "nbformat_minor": 2
}
